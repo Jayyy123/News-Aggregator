{
 "cells": [
  {
   "cell_type": "code",
   "execution_count": 52,
   "id": "778cc6ad",
   "metadata": {},
   "outputs": [],
   "source": [
    "from newspaper import Article\n",
    "def tech_article(url):\n",
    "    tech_link = Article(url)\n",
    "    \n",
    "    tech_link.download()\n",
    "    tech_link.parse()\n",
    "\n",
    "    \n",
    "    tech_link.download('punkt')\n",
    "    tech_link.nlp()\n",
    "    \n",
    "    date = tech_link.publish_date\n",
    "    print(\"Published: \" + str(date.strftime(\"%m/%d/%Y\")))\n",
    "    \n",
    "    print(\"Author: \" + str(tech_link.authors))\n",
    "    \n",
    "    print(\"Top Image Url: \" + str(tech_link.top_image))\n",
    "    \n",
    "    i_string = \"\\nAll Images: \"\n",
    "    for i in tech_link.images:\n",
    "        i_string += \"\\n\\t\" + i\n",
    "    print(i_string)\n",
    "    print(\"\\n\")\n",
    "    print(\"Summary: \")\n",
    "    print(tech_link.summary)"
   ]
  },
  {
   "cell_type": "code",
   "execution_count": 53,
   "id": "e669594e",
   "metadata": {},
   "outputs": [
    {
     "name": "stdout",
     "output_type": "stream",
     "text": [
      "Published: 01/24/2022\n",
      "Author: ['Cade Metz']\n",
      "Top Image Url: https://static01.nyt.com/images/2022/01/12/business/12innovation-print/12innovation-print-facebookJumbo.jpg\n",
      "\n",
      "All Images: \n",
      "\thttps://static01.nyt.com/images/2018/11/26/multimedia/author-cade-metz/author-cade-metz-thumbLarge.png\n",
      "\thttps://static01.nyt.com/images/2022/01/12/business/12innovation-print/12innovation-print-blog480.jpg\n",
      "\thttps://static01.nyt.com/images/2022/01/12/business/12innovation-print/12innovation-print-facebookJumbo.jpg\n",
      "\thttps://static01.nyt.com/images/2022/01/13/business/00innovate2/merlin_200273676_911a4419-8960-469a-afee-7d9a947dfe3c-articleLarge.jpg?quality=75&auto=webp&disable=upscale\n",
      "\n",
      "\n",
      "Summary: \n",
      "But more than two years after Google’s announcement, the world is still waiting for a quantum computer that actually does something useful.\n",
      "The world is also waiting for self-driving cars, flying cars, advanced artificial intelligence and brain implants that will let you control your computing devices using nothing but your thoughts.\n",
      "Have the big thinkers of tech lost their mojo?\n",
      "The answer, those big thinkers are quick to respond, is absolutely not.\n",
      "But the projects they are tackling are far more difficult than building a new app or disrupting another aging industry.\n"
     ]
    }
   ],
   "source": [
    "tech_article(\"https://www.nytimes.com/2022/01/24/technology/silicon-valley-next-big-thing.html\")"
   ]
  },
  {
   "cell_type": "code",
   "execution_count": 54,
   "id": "2db00373",
   "metadata": {},
   "outputs": [
    {
     "name": "stdout",
     "output_type": "stream",
     "text": [
      "Published: 01/21/2022\n",
      "Author: ['Mike Isaac', 'Kate Conger']\n",
      "Top Image Url: https://static01.nyt.com/images/2022/01/21/world/21twitter1/merlin_161161251_eddc120e-d818-44e7-ac23-9fce696a48bf-facebookJumbo.jpg\n",
      "\n",
      "All Images: \n",
      "\thttps://static01.nyt.com/images/2022/01/21/world/21twitter1/merlin_161161251_eddc120e-d818-44e7-ac23-9fce696a48bf-facebookJumbo.jpg\n",
      "\thttps://static01.nyt.com/images/2022/01/21/world/21twitter1/merlin_161161251_eddc120e-d818-44e7-ac23-9fce696a48bf-articleLarge.jpg?quality=75&auto=webp&disable=upscale\n",
      "\n",
      "\n",
      "Summary: \n",
      "SAN FRANCISCO — Twitter shook up the top ranks of its security team this week with the termination of the head of security and the exit of the chief information security officer, the company told employees on Wednesday, as its new chief executive reorganizes the social media service.\n",
      "Peiter Zatko, the head of security, who is better known within the security community as Mudge, is no longer at the company, Twitter confirmed.\n",
      "Rinki Sethi, the chief information security officer, will depart in the coming weeks.\n",
      "The changes followed “an assessment of how the organization was being led and the impact on top priority work,” according to a memo from Parag Agrawal, Twitter’s chief executive, that was sent to employees on Wednesday and obtained by The New York Times.\n",
      "Mr. Agrawal said the “nature of this situation” limited what he was allowed to share with employees.\n"
     ]
    }
   ],
   "source": [
    "tech_article(\"https://www.nytimes.com/2022/01/21/technology/twitter-security-team.html\")"
   ]
  },
  {
   "cell_type": "code",
   "execution_count": null,
   "id": "a47d779b",
   "metadata": {},
   "outputs": [],
   "source": []
  }
 ],
 "metadata": {
  "kernelspec": {
   "display_name": "Python 3 (ipykernel)",
   "language": "python",
   "name": "python3"
  },
  "language_info": {
   "codemirror_mode": {
    "name": "ipython",
    "version": 3
   },
   "file_extension": ".py",
   "mimetype": "text/x-python",
   "name": "python",
   "nbconvert_exporter": "python",
   "pygments_lexer": "ipython3",
   "version": "3.9.7"
  }
 },
 "nbformat": 4,
 "nbformat_minor": 5
}
