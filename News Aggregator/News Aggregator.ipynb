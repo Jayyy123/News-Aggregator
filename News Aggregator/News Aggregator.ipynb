{
 "cells": [
  {
   "cell_type": "code",
   "execution_count": 1,
   "id": "adce88d2",
   "metadata": {},
   "outputs": [],
   "source": [
    "import time\n",
    "import requests\n",
    "from bs4 import BeautifulSoup as soup"
   ]
  },
  {
   "cell_type": "markdown",
   "id": "ae43ed33",
   "metadata": {},
   "source": [
    "Accessing newspaper function"
   ]
  },
  {
   "cell_type": "code",
   "execution_count": 2,
   "id": "ae89f3e2",
   "metadata": {},
   "outputs": [],
   "source": [
    "from newspaper import Article\n",
    "def tech_article(url):\n",
    "    tech_link = Article(url)\n",
    "    \n",
    "    tech_link.download()\n",
    "    tech_link.parse()\n",
    "\n",
    "    \n",
    "    tech_link.download('punkt')\n",
    "    tech_link.nlp()\n",
    "    \n",
    "#     date = tech_link.publish_date\n",
    "#     print(\"Published: \" + str(date.strftime(\"%m/%d/%Y\")))\n",
    "    \n",
    "#     print(\"Author: \" + str(tech_link.authors))\n",
    "    \n",
    "    print(\"Top Image Url: \" + str(tech_link.top_image))\n",
    "    \n",
    "    i_string = \"\\nAll Images: \"\n",
    "    for i in tech_link.images:\n",
    "        i_string += \"\\n\\t\" + i\n",
    "    print(i_string)\n",
    "    print(\"\\n\")\n",
    "    print(\"Summary: \")\n",
    "    print(tech_link.summary)"
   ]
  },
  {
   "cell_type": "markdown",
   "id": "b4bda276",
   "metadata": {},
   "source": [
    "Extracting links function"
   ]
  },
  {
   "cell_type": "code",
   "execution_count": 3,
   "id": "f1397283",
   "metadata": {},
   "outputs": [],
   "source": [
    "\n",
    "def tech_content(url):\n",
    "    blog = requests.get(url)\n",
    "    blog_soup = soup(blog.content, 'html.parser')\n",
    "    \n",
    "#     print(blog_soup)\n",
    "    \n",
    "    containers = blog_soup.find_all(\"script\", {\"type\":\"application/ld+json\"})\n",
    "    \n",
    "    tag_list = []\n",
    "    for i in containers:\n",
    "        for d in i:\n",
    "            tag_list.append(d)\n",
    "#     print(tag_list)\n",
    "    \n",
    "    tag_list[0:2] = [''.join(tag_list[0:2])]\n",
    "    filtering = tag_list[0]\n",
    "    \n",
    "    \n",
    "    b = filtering.index(\"Person\")\n",
    "    filtering = filtering[b+8:]\n",
    "    \n",
    "#   Searching for specific links\n",
    "    start = []\n",
    "    end = []\n",
    "    for i in range(len(filtering)):\n",
    "        if filtering.startswith(\"https://www.nytimes.com/#\",i):\n",
    "            start.append(i)\n",
    "        if filtering.startswith(\"#publisher\",i):\n",
    "            end.append(i)\n",
    "            \n",
    "    def get_link(start,end,filtering):\n",
    "        urlpatterns = []\n",
    "        for i in range(len(start)):\n",
    "            urlpatterns.append(filtering[start[i]:end[i]])\n",
    "        return urlpatterns\n",
    "    \n",
    "    \n",
    "    return get_link(start,end,filtering)\n",
    "    "
   ]
  },
  {
   "cell_type": "markdown",
   "id": "a9dfa03a",
   "metadata": {},
   "source": [
    "Test link"
   ]
  },
  {
   "cell_type": "code",
   "execution_count": 4,
   "id": "5d9a70d9",
   "metadata": {},
   "outputs": [
    {
     "data": {
      "text/plain": [
       "['https://www.nytimes.com/',\n",
       " 'https://www.nytimes.com/',\n",
       " 'https://www.nytimes.com/',\n",
       " 'https://www.nytimes.com/']"
      ]
     },
     "execution_count": 4,
     "metadata": {},
     "output_type": "execute_result"
    }
   ],
   "source": [
    "tech_content(\"https://www.nytimes.com/2022/01/21/technology/twitter-security-team.html\")"
   ]
  },
  {
   "cell_type": "markdown",
   "id": "8355b8fd",
   "metadata": {},
   "source": [
    "Putting it all together"
   ]
  },
  {
   "cell_type": "code",
   "execution_count": 5,
   "id": "8fd45e1f",
   "metadata": {},
   "outputs": [
    {
     "name": "stdout",
     "output_type": "stream",
     "text": [
      "Article Url: https://www.nytimes.com/\n",
      "Top Image Url: https://static01.nyt.com/newsgraphics/images/icons/defaultPromoCrop.png\n",
      "\n",
      "All Images: \n",
      "\thttps://static01.nytimes.com/newsgraphics/2020/12/09/vaccine-distribution-tracker/assets/scoop-vaccine-distribution-tracker-threeByTwoSmallAt2X.png\n",
      "\thttps://static01.nyt.com/images/2021/08/13/reader-center/author-tressie-mcmillan-cottom/author-tressie-mcmillan-cottom-thumbLarge.png\n",
      "\thttps://static01.nyt.com/newsgraphics/images/icons/defaultPromoCrop.png\n",
      "\thttps://static01.nyt.com/newsgraphics/2021/coronavirus-tracking/images/svg/timeseries/USA/USA-deaths-two-weeks.svg\n",
      "\thttps://static01.nyt.com/newsgraphics/2021/coronavirus-tracking/images/svg/timeseries/USA/USA-cases-two-weeks.svg\n",
      "\thttps://static01.nyt.com/images/2018/04/02/opinion/michelle-goldberg/michelle-goldberg-thumbLarge.png\n",
      "\thttps://static01.nyt.com/images/2018/08/02/opinion/02swisher/02swisher-thumbLarge.png\n",
      "\thttps://static01.nyt.com/newsgraphics/2021/coronavirus-tracking/images/maps/NYT-World/hotspots.png\n",
      "\thttps://static01.nyt.com/newsgraphics/2021/coronavirus-tracking/images/maps/USA/hotspots-state.png\n",
      "\thttps://static01.nyt.com/images/2018/04/02/opinion/paul-krugman/paul-krugman-thumbLarge.png\n",
      "\n",
      "\n",
      "Summary: \n",
      "The Best Body PillowsYes, a body pillow is simply comfortable.\n",
      "But it can help with body alignment as you sleep, too.\n",
      "Article Url: https://www.nytimes.com/\n",
      "Top Image Url: https://static01.nyt.com/newsgraphics/images/icons/defaultPromoCrop.png\n",
      "\n",
      "All Images: \n",
      "\thttps://static01.nytimes.com/newsgraphics/2020/12/09/vaccine-distribution-tracker/assets/scoop-vaccine-distribution-tracker-threeByTwoSmallAt2X.png\n",
      "\thttps://static01.nyt.com/images/2021/08/13/reader-center/author-tressie-mcmillan-cottom/author-tressie-mcmillan-cottom-thumbLarge.png\n",
      "\thttps://static01.nyt.com/newsgraphics/images/icons/defaultPromoCrop.png\n",
      "\thttps://static01.nyt.com/newsgraphics/2021/coronavirus-tracking/images/svg/timeseries/USA/USA-deaths-two-weeks.svg\n",
      "\thttps://static01.nyt.com/newsgraphics/2021/coronavirus-tracking/images/svg/timeseries/USA/USA-cases-two-weeks.svg\n",
      "\thttps://static01.nyt.com/images/2018/04/02/opinion/michelle-goldberg/michelle-goldberg-thumbLarge.png\n",
      "\thttps://static01.nyt.com/images/2018/08/02/opinion/02swisher/02swisher-thumbLarge.png\n",
      "\thttps://static01.nyt.com/newsgraphics/2021/coronavirus-tracking/images/maps/NYT-World/hotspots.png\n",
      "\thttps://static01.nyt.com/newsgraphics/2021/coronavirus-tracking/images/maps/USA/hotspots-state.png\n",
      "\thttps://static01.nyt.com/images/2018/04/02/opinion/paul-krugman/paul-krugman-thumbLarge.png\n",
      "\n",
      "\n",
      "Summary: \n",
      "The Best Body PillowsYes, a body pillow is simply comfortable.\n",
      "But it can help with body alignment as you sleep, too.\n",
      "Article Url: https://www.nytimes.com/\n",
      "Top Image Url: https://static01.nyt.com/newsgraphics/images/icons/defaultPromoCrop.png\n",
      "\n",
      "All Images: \n",
      "\thttps://static01.nytimes.com/newsgraphics/2020/12/09/vaccine-distribution-tracker/assets/scoop-vaccine-distribution-tracker-threeByTwoSmallAt2X.png\n",
      "\thttps://static01.nyt.com/images/2021/08/13/reader-center/author-tressie-mcmillan-cottom/author-tressie-mcmillan-cottom-thumbLarge.png\n",
      "\thttps://static01.nyt.com/newsgraphics/images/icons/defaultPromoCrop.png\n",
      "\thttps://static01.nyt.com/newsgraphics/2021/coronavirus-tracking/images/svg/timeseries/USA/USA-deaths-two-weeks.svg\n",
      "\thttps://static01.nyt.com/newsgraphics/2021/coronavirus-tracking/images/svg/timeseries/USA/USA-cases-two-weeks.svg\n",
      "\thttps://static01.nyt.com/images/2018/04/02/opinion/michelle-goldberg/michelle-goldberg-thumbLarge.png\n",
      "\thttps://static01.nyt.com/images/2018/08/02/opinion/02swisher/02swisher-thumbLarge.png\n",
      "\thttps://static01.nyt.com/newsgraphics/2021/coronavirus-tracking/images/maps/NYT-World/hotspots.png\n",
      "\thttps://static01.nyt.com/newsgraphics/2021/coronavirus-tracking/images/maps/USA/hotspots-state.png\n",
      "\thttps://static01.nyt.com/images/2018/04/02/opinion/paul-krugman/paul-krugman-thumbLarge.png\n",
      "\n",
      "\n",
      "Summary: \n",
      "The Best Body PillowsYes, a body pillow is simply comfortable.\n",
      "But it can help with body alignment as you sleep, too.\n",
      "Article Url: https://www.nytimes.com/\n",
      "Top Image Url: https://static01.nyt.com/newsgraphics/images/icons/defaultPromoCrop.png\n",
      "\n",
      "All Images: \n",
      "\thttps://static01.nytimes.com/newsgraphics/2020/12/09/vaccine-distribution-tracker/assets/scoop-vaccine-distribution-tracker-threeByTwoSmallAt2X.png\n",
      "\thttps://static01.nyt.com/images/2021/08/13/reader-center/author-tressie-mcmillan-cottom/author-tressie-mcmillan-cottom-thumbLarge.png\n",
      "\thttps://static01.nyt.com/newsgraphics/images/icons/defaultPromoCrop.png\n",
      "\thttps://static01.nyt.com/newsgraphics/2021/coronavirus-tracking/images/svg/timeseries/USA/USA-deaths-two-weeks.svg\n",
      "\thttps://static01.nyt.com/newsgraphics/2021/coronavirus-tracking/images/svg/timeseries/USA/USA-cases-two-weeks.svg\n",
      "\thttps://static01.nyt.com/images/2018/04/02/opinion/michelle-goldberg/michelle-goldberg-thumbLarge.png\n",
      "\thttps://static01.nyt.com/images/2018/08/02/opinion/02swisher/02swisher-thumbLarge.png\n",
      "\thttps://static01.nyt.com/newsgraphics/2021/coronavirus-tracking/images/maps/NYT-World/hotspots.png\n",
      "\thttps://static01.nyt.com/newsgraphics/2021/coronavirus-tracking/images/maps/USA/hotspots-state.png\n",
      "\thttps://static01.nyt.com/images/2018/04/02/opinion/paul-krugman/paul-krugman-thumbLarge.png\n",
      "\n",
      "\n",
      "Summary: \n",
      "The Best Body PillowsYes, a body pillow is simply comfortable.\n",
      "But it can help with body alignment as you sleep, too.\n"
     ]
    }
   ],
   "source": [
    "for url in tech_content(\"https://www.nytimes.com/2022/01/21/technology/twitter-security-team.html\"):\n",
    "    print(\"Article Url: \" + str(url))\n",
    "    article_summary = tech_article(url)\n"
   ]
  },
  {
   "cell_type": "code",
   "execution_count": null,
   "id": "fc634353",
   "metadata": {},
   "outputs": [],
   "source": []
  }
 ],
 "metadata": {
  "kernelspec": {
   "display_name": "Python 3 (ipykernel)",
   "language": "python",
   "name": "python3"
  },
  "language_info": {
   "codemirror_mode": {
    "name": "ipython",
    "version": 3
   },
   "file_extension": ".py",
   "mimetype": "text/x-python",
   "name": "python",
   "nbconvert_exporter": "python",
   "pygments_lexer": "ipython3",
   "version": "3.9.7"
  }
 },
 "nbformat": 4,
 "nbformat_minor": 5
}
