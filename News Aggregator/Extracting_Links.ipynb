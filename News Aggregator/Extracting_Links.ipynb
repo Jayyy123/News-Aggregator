{
 "cells": [
  {
   "cell_type": "markdown",
   "id": "4c60bf51",
   "metadata": {},
   "source": [
    "Extracting the tech_url hyperlink"
   ]
  },
  {
   "cell_type": "code",
   "execution_count": 4,
   "id": "f1dfa4b3",
   "metadata": {},
   "outputs": [],
   "source": [
    "import requests\n",
    "from bs4 import BeautifulSoup as soup"
   ]
  },
  {
   "cell_type": "code",
   "execution_count": 232,
   "id": "eca5fb62",
   "metadata": {},
   "outputs": [],
   "source": [
    "def tech_content(url):\n",
    "    blog = requests.get(url)\n",
    "    blog_soup = soup(blog.content, 'html.parser')\n",
    "    \n",
    "#     print(blog_soup)\n",
    "    \n",
    "    containers = blog_soup.find_all(\"script\", {\"type\":\"application/ld+json\"})\n",
    "    \n",
    "    tag_list = []\n",
    "    for i in containers:\n",
    "        for d in i:\n",
    "            tag_list.append(d)\n",
    "#     print(tag_list)\n",
    "    \n",
    "    tag_list[0:2] = [''.join(tag_list[0:2])]\n",
    "    filtering = tag_list[0]\n",
    "    \n",
    "    \n",
    "    b = filtering.index(\"Person\")\n",
    "    filtering = filtering[b+8:]\n",
    "    \n",
    "#   Searching for specific links\n",
    "    start = []\n",
    "    end = []\n",
    "    for i in range(len(filtering)):\n",
    "        if filtering.startswith(\"https://www.nytimes.com/#\",i):\n",
    "            start.append(i)\n",
    "        if filtering.startswith(\"#publisher\",i):\n",
    "            end.append(i)\n",
    "            \n",
    "    def get_link(start,end,filtering):\n",
    "        urlpatterns = []\n",
    "        for i in range(len(start)):\n",
    "            urlpatterns.append(filtering[start[i]:end[i]])\n",
    "        return urlpatterns\n",
    "    \n",
    "    \n",
    "    return get_link(start,end,filtering)\n",
    "    "
   ]
  },
  {
   "cell_type": "code",
   "execution_count": 233,
   "id": "1ba12941",
   "metadata": {},
   "outputs": [
    {
     "data": {
      "text/plain": [
       "['https://www.nytimes.com/',\n",
       " 'https://www.nytimes.com/',\n",
       " 'https://www.nytimes.com/',\n",
       " 'https://www.nytimes.com/']"
      ]
     },
     "execution_count": 233,
     "metadata": {},
     "output_type": "execute_result"
    }
   ],
   "source": [
    "tech_content(\"https://www.nytimes.com/2022/01/21/technology/twitter-security-team.html\")"
   ]
  },
  {
   "cell_type": "code",
   "execution_count": null,
   "id": "1a6e987e",
   "metadata": {},
   "outputs": [],
   "source": []
  },
  {
   "cell_type": "code",
   "execution_count": null,
   "id": "55e9e535",
   "metadata": {},
   "outputs": [],
   "source": []
  }
 ],
 "metadata": {
  "kernelspec": {
   "display_name": "Python 3 (ipykernel)",
   "language": "python",
   "name": "python3"
  },
  "language_info": {
   "codemirror_mode": {
    "name": "ipython",
    "version": 3
   },
   "file_extension": ".py",
   "mimetype": "text/x-python",
   "name": "python",
   "nbconvert_exporter": "python",
   "pygments_lexer": "ipython3",
   "version": "3.9.7"
  }
 },
 "nbformat": 4,
 "nbformat_minor": 5
}
