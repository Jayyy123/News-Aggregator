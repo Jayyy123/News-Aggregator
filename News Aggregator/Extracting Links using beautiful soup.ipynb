{
 "cells": [
  {
   "cell_type": "markdown",
   "id": "2f326f79",
   "metadata": {},
   "source": [
    "Extracting the tech_url hyperlink"
   ]
  },
  {
   "cell_type": "code",
   "execution_count": 4,
   "id": "f6e92f36",
   "metadata": {},
   "outputs": [],
   "source": [
    "import requests\n",
    "from bs4 import BeautifulSoup as soup"
   ]
  },
  {
   "cell_type": "code",
   "execution_count": 236,
   "id": "e95e33e5",
   "metadata": {},
   "outputs": [],
   "source": [
    "def tech_content(url):\n",
    "    blog = requests.get(url)\n",
    "    blog_soup = soup(blog.content, 'html.parser')\n",
    "    \n",
    "#     print(blog_soup)\n",
    "    \n",
    "    containers = blog_soup.find_all(\"script\", {\"type\":\"application/ld+json\"})\n",
    "    \n",
    "    tag_list = []\n",
    "    for i in containers:\n",
    "        for d in i:\n",
    "            tag_list.append(d)\n",
    "#     print(tag_list)\n",
    "    \n",
    "    tag_list[0:2] = [''.join(tag_list[0:2])]\n",
    "    filtering = tag_list[0]\n",
    "    \n",
    "    \n",
    "    b = filtering.index(\"Person\")\n",
    "    filtering = filtering[b+8:]\n",
    "    \n",
    "#   Searching for specific links\n",
    "    start = []\n",
    "    end = []\n",
    "    for i in range(len(filtering)):\n",
    "        if filtering.startswith(\"https://www.nytimes.com/#\",i):\n",
    "            start.append(i)\n",
    "        if filtering.startswith(\"#publisher\",i):\n",
    "            end.append(i)\n",
    "            \n",
    "    def get_link(start,end,filtering):\n",
    "        urlpatterns = []\n",
    "        for i in range(len(start)):\n",
    "            urlpatterns.append(filtering[start[i]:end[i]])\n",
    "        return urlpatterns\n",
    "    \n",
    "    \n",
    "    return get_link(start,end,filtering)\n",
    "    "
   ]
  },
  {
   "cell_type": "code",
   "execution_count": 235,
   "id": "38436e65",
   "metadata": {},
   "outputs": [
    {
     "ename": "NameError",
     "evalue": "name 'urlpatterns' is not defined",
     "output_type": "error",
     "traceback": [
      "\u001b[0;31m---------------------------------------------------------------------------\u001b[0m",
      "\u001b[0;31mNameError\u001b[0m                                 Traceback (most recent call last)",
      "\u001b[0;32m/var/folders/tr/zq98pqbj0p1c7zmsw05l7n8h0000gn/T/ipykernel_91217/66680035.py\u001b[0m in \u001b[0;36m<module>\u001b[0;34m\u001b[0m\n\u001b[0;32m----> 1\u001b[0;31m \u001b[0mtech_content\u001b[0m\u001b[0;34m(\u001b[0m\u001b[0;34m\"https://www.nytimes.com/2022/01/21/technology/twitter-security-team.html\"\u001b[0m\u001b[0;34m)\u001b[0m\u001b[0;34m\u001b[0m\u001b[0;34m\u001b[0m\u001b[0m\n\u001b[0m",
      "\u001b[0;32m/var/folders/tr/zq98pqbj0p1c7zmsw05l7n8h0000gn/T/ipykernel_91217/1193182357.py\u001b[0m in \u001b[0;36mtech_content\u001b[0;34m(url)\u001b[0m\n\u001b[1;32m     36\u001b[0m \u001b[0;34m\u001b[0m\u001b[0m\n\u001b[1;32m     37\u001b[0m \u001b[0;34m\u001b[0m\u001b[0m\n\u001b[0;32m---> 38\u001b[0;31m     \u001b[0;32mreturn\u001b[0m \u001b[0murlpatterns\u001b[0m\u001b[0;34m\u001b[0m\u001b[0;34m\u001b[0m\u001b[0m\n\u001b[0m\u001b[1;32m     39\u001b[0m \u001b[0;34m\u001b[0m\u001b[0m\n",
      "\u001b[0;31mNameError\u001b[0m: name 'urlpatterns' is not defined"
     ]
    }
   ],
   "source": [
    "tech_content(\"https://www.nytimes.com/2022/01/21/technology/twitter-security-team.html\")"
   ]
  },
  {
   "cell_type": "code",
   "execution_count": 237,
   "id": "e3324ecb",
   "metadata": {},
   "outputs": [
    {
     "ename": "NameError",
     "evalue": "name 'urlpatterns' is not defined",
     "output_type": "error",
     "traceback": [
      "\u001b[0;31m---------------------------------------------------------------------------\u001b[0m",
      "\u001b[0;31mNameError\u001b[0m                                 Traceback (most recent call last)",
      "\u001b[0;32m/var/folders/tr/zq98pqbj0p1c7zmsw05l7n8h0000gn/T/ipykernel_91217/1770185587.py\u001b[0m in \u001b[0;36m<module>\u001b[0;34m\u001b[0m\n\u001b[0;32m----> 1\u001b[0;31m \u001b[0murlpatterns\u001b[0m\u001b[0;34m\u001b[0m\u001b[0;34m\u001b[0m\u001b[0m\n\u001b[0m",
      "\u001b[0;31mNameError\u001b[0m: name 'urlpatterns' is not defined"
     ]
    }
   ],
   "source": [
    "urlpatterns"
   ]
  },
  {
   "cell_type": "code",
   "execution_count": null,
   "id": "306f3d57",
   "metadata": {},
   "outputs": [],
   "source": []
  }
 ],
 "metadata": {
  "kernelspec": {
   "display_name": "Python 3 (ipykernel)",
   "language": "python",
   "name": "python3"
  },
  "language_info": {
   "codemirror_mode": {
    "name": "ipython",
    "version": 3
   },
   "file_extension": ".py",
   "mimetype": "text/x-python",
   "name": "python",
   "nbconvert_exporter": "python",
   "pygments_lexer": "ipython3",
   "version": "3.9.7"
  }
 },
 "nbformat": 4,
 "nbformat_minor": 5
}
